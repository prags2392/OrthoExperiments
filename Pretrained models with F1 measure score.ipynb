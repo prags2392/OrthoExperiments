{
 "cells": [
  {
   "cell_type": "code",
   "execution_count": 1,
   "metadata": {},
   "outputs": [],
   "source": [
    "import torch\n",
    "import torch.nn as nn\n",
    "import torchvision.models as models\n",
    "import torchvision.transforms as transforms\n",
    "from torch.autograd import Variable\n",
    "\n",
    "from PIL import Image"
   ]
  },
  {
   "cell_type": "code",
   "execution_count": 30,
   "metadata": {},
   "outputs": [],
   "source": [
    "test_image_path = 'D:\\\\knee\\\\data\\\\triathlon\\\\triathlon1.jpg'"
   ]
  },
  {
   "cell_type": "code",
   "execution_count": 3,
   "metadata": {},
   "outputs": [
    {
     "name": "stdout",
     "output_type": "stream",
     "text": [
      "Wall time: 2.36 s\n"
     ]
    }
   ],
   "source": [
    "%%time\n",
    "rn50_model = models.resnet50(pretrained=True)\n",
    "# model = model.cuda()\n",
    "rn50_model.eval()\n",
    "# layer = rn34_model._modules.get('avgpool')"
   ]
  },
  {
   "cell_type": "code",
   "execution_count": 4,
   "metadata": {},
   "outputs": [],
   "source": [
    "scaler = transforms.Resize((224, 224))\n",
    "normalize = transforms.Normalize(mean=[0.485, 0.456, 0.406],\n",
    "                                 std=[0.229, 0.224, 0.225])\n",
    "to_tensor = transforms.ToTensor()"
   ]
  },
  {
   "cell_type": "code",
   "execution_count": 5,
   "metadata": {},
   "outputs": [],
   "source": [
    "class FeatureExtract(nn.Module):\n",
    "    def __init__(self, base_model):\n",
    "        super().__init__()\n",
    "        self.features = nn.Sequential(\n",
    "            *list(base_model.children())[:-1]\n",
    "        )\n",
    "    def forward(self, x):\n",
    "        x = self.features(x)\n",
    "        return x\n",
    "\n",
    "model = FeatureExtract(rn50_model)\n"
   ]
  },
  {
   "cell_type": "code",
   "execution_count": 6,
   "metadata": {},
   "outputs": [],
   "source": [
    "def load_img(image_path):\n",
    "    img = Image.open(image_path)\n",
    "    t_img = Variable(normalize(to_tensor(scaler(img))))\n",
    "#     print(t_img.shape)\n",
    "    t_img = t_img.unsqueeze(0)\n",
    "#     print(t_img.shape)\n",
    "    return t_img"
   ]
  },
  {
   "cell_type": "code",
   "execution_count": 31,
   "metadata": {},
   "outputs": [],
   "source": [
    "vector_1 = model(load_img(test_image_path))"
   ]
  },
  {
   "cell_type": "code",
   "execution_count": 8,
   "metadata": {},
   "outputs": [],
   "source": [
    "cos = nn.CosineSimilarity(dim=1, eps=1e-6)"
   ]
  },
  {
   "cell_type": "code",
   "execution_count": 9,
   "metadata": {},
   "outputs": [],
   "source": [
    "def similarity(source_img_path, target_vec, sim_fn):\n",
    "    t_img = load_img(source_img_path)\n",
    "    if t_img.shape[1] != 3:\n",
    "        return 0.0\n",
    "    source_vec = model(t_img)\n",
    "    return float(sim_fn(source_vec, target_vec)[0][0][0].data.cpu().numpy())"
   ]
  },
  {
   "cell_type": "code",
   "execution_count": 10,
   "metadata": {},
   "outputs": [],
   "source": [
    "from pathlib import Path"
   ]
  },
  {
   "cell_type": "code",
   "execution_count": null,
   "metadata": {},
   "outputs": [],
   "source": [
    "source_dir = Path('D:\\\\knee\\\\knee-xrays-master\\\\data\\\\raw\\\\output\\\\')"
   ]
  },
  {
   "cell_type": "code",
   "execution_count": null,
   "metadata": {},
   "outputs": [],
   "source": [
    "%%time\n",
    "for image_path in source_dir.iterdir():\n",
    "    sim_val = similarity(image_path, target_vec=vector_1, sim_fn=cos)\n",
    "    print(f'{image_path.stem},{sim_val}')"
   ]
  },
  {
   "cell_type": "code",
   "execution_count": 32,
   "metadata": {},
   "outputs": [],
   "source": [
    "test_dir = Path('D:\\\\knee\\\\data_complete\\\\normalised\\\\output')"
   ]
  },
  {
   "cell_type": "code",
   "execution_count": 33,
   "metadata": {},
   "outputs": [],
   "source": [
    "def find_top_k(test_dir):\n",
    "    from collections import defaultdict\n",
    "    \n",
    "    sim_list = []\n",
    "    \n",
    "    for image_path in test_dir.iterdir():\n",
    "        sim_val = similarity(image_path, target_vec=vector_1, sim_fn=cos)\n",
    "        name = str(image_path.stem)\n",
    "        sim_list.append((name, sim_val))\n",
    "        #print(f'{image_path.stem},{sim_val}')\n",
    "    return sim_list"
   ]
  },
  {
   "cell_type": "code",
   "execution_count": 34,
   "metadata": {},
   "outputs": [],
   "source": [
    "sim_list = find_top_k(test_dir)"
   ]
  },
  {
   "cell_type": "code",
   "execution_count": 35,
   "metadata": {},
   "outputs": [],
   "source": [
    "sim_list.sort(key=lambda tup: tup[1], reverse=True)  # sorts in place"
   ]
  },
  {
   "cell_type": "code",
   "execution_count": 36,
   "metadata": {},
   "outputs": [
    {
     "name": "stdout",
     "output_type": "stream",
     "text": [
      "triathlon\n"
     ]
    }
   ],
   "source": [
    "#print (((test_image_path.split('/'))[:-1]).split('.'))\n",
    "var = str(test_image_path)\n",
    "listme = (var.split('\\\\'))[-1]\n",
    "test_file_name = (listme.split('.'))[0]\n",
    "test_name = test_file_name[:-1]\n",
    "print (test_name)"
   ]
  },
  {
   "cell_type": "code",
   "execution_count": 37,
   "metadata": {},
   "outputs": [
    {
     "name": "stdout",
     "output_type": "stream",
     "text": [
      "6\n",
      "41\n",
      "72\n",
      "1\n",
      "0.07692307692307693\n",
      "0.8571428571428571\n",
      "0.1411764705882353\n"
     ]
    }
   ],
   "source": [
    "def calc_recall_precision(sim_list):\n",
    "    truepositive = truenegative = falsepositive = falsenegative = 0\n",
    "    for element in sim_list:\n",
    "        if element[1] > 0.8:\n",
    "            #print (str(element[0]))\n",
    "            if test_name in str(element[0]).lower():\n",
    "                truepositive += 1\n",
    "            else:\n",
    "                falsepositive += 1\n",
    "        else:\n",
    "            if test_name in str(element[0]).lower():\n",
    "                falsenegative += 1\n",
    "            else:\n",
    "                truenegative += 1\n",
    "    if((truepositive + falsepositive)!=0):\n",
    "        precision = truepositive/(truepositive+falsepositive)\n",
    "    else:\n",
    "        precision = -1\n",
    "    if((truepositive+falsenegative)!=0):\n",
    "        recall = truepositive/(truepositive+falsenegative)\n",
    "    else:\n",
    "        recall = -1\n",
    "    if(precision!= -1 and recall!= -1):\n",
    "        F1 = (2*precision*recall)/(precision+recall)\n",
    "    else:\n",
    "        F1 = -1\n",
    "    print (truepositive)\n",
    "    print (truenegative)\n",
    "    print (falsepositive)\n",
    "    print (falsenegative)\n",
    "    print (precision)\n",
    "    print (recall)\n",
    "    print (F1)\n",
    "\n",
    "\n",
    "calc_recall_precision(sim_list)"
   ]
  },
  {
   "cell_type": "code",
   "execution_count": 38,
   "metadata": {},
   "outputs": [
    {
     "name": "stdout",
     "output_type": "stream",
     "text": [
      "3\n",
      "7\n"
     ]
    }
   ],
   "source": [
    "def num_correct_top_k(sim_list,k):\n",
    "    correct_num = wrong_num = 0\n",
    "    for element in sim_list[:k]:\n",
    "        if test_name in str(element[0]).lower():\n",
    "            correct_num +=1\n",
    "        else:\n",
    "            wrong_num +=1\n",
    "    print (correct_num)\n",
    "    print (wrong_num)\n",
    "    \n",
    "num_correct_top_k(sim_list,10)"
   ]
  },
  {
   "cell_type": "code",
   "execution_count": null,
   "metadata": {},
   "outputs": [],
   "source": []
  }
 ],
 "metadata": {
  "kernelspec": {
   "display_name": "Python 3",
   "language": "python",
   "name": "python3"
  },
  "language_info": {
   "codemirror_mode": {
    "name": "ipython",
    "version": 3
   },
   "file_extension": ".py",
   "mimetype": "text/x-python",
   "name": "python",
   "nbconvert_exporter": "python",
   "pygments_lexer": "ipython3",
   "version": "3.6.5"
  }
 },
 "nbformat": 4,
 "nbformat_minor": 2
}
